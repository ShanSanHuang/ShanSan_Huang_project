{
  "cells": [
    {
      "cell_type": "markdown",
      "metadata": {
        "id": "sGLOkTN4Sokg"
      },
      "source": [
        "# Machine Learning in Python for Neuroimaging\n",
        "\n",
        "This notebook, prepared by Désirée Lussier, is to provide an introduction to machine learning for BrainHack School 2022. It has been adapted from Brainhack Global MTL 2019 traintrack tutorial (https://github.com/BrainhackMTL/global2019-traintrack/blob/master/machine_learning.ipynb) by Désirée Lussier which was modified from the MAIN 2019 training given by Alexadre Hutton (https://github.com/main-training/main-training-nilearn-ml/blob/master/01_intro_ml.ipynb; https://github.com/main-training/main-training-nilearn-ml/blob/master/01_intro_ml_slides.odp) and sklearn tutorial (http://scipy-lectures.org/packages/scikit-learn/index.html). \n",
        "\n",
        "This training is meant to give a brief overview of the basics of machine learning in Python3. For more complete training or other specific examples please see the additional BrainHack School modules (https://school.brainhackmtl.org/modules/) above MAIN courses (https://github.com/main-training) and documentation for Scikit Learn (https://scikit-learn.org/stable/)."
      ]
    },
    {
      "cell_type": "markdown",
      "metadata": {
        "id": "2XOIKdjaSokn"
      },
      "source": [
        "# Training Outline"
      ]
    },
    {
      "cell_type": "markdown",
      "metadata": {
        "id": "gVOJmI30Soko"
      },
      "source": [
        "__Machine Learning with Scikit Learn__<br>\n",
        "<li>Machine learning classification examples</li>\n",
        "<li>Model evaluation</li>\n",
        "<li>Model complexity</li>\n",
        "\n",
        "\n",
        "# What is machine learning?"
      ]
    },
    {
      "cell_type": "markdown",
      "metadata": {
        "id": "b07lZ8xaSoko"
      },
      "source": [
        "![machine_learning.png](attachment:machine_learning.png)"
      ]
    },
    {
      "cell_type": "markdown",
      "metadata": {
        "id": "Ei5ts-4gSokp"
      },
      "source": [
        "In __machine learning__ models with parameters which are __optimized__ according to previously-seen data.\n",
        "\n",
        "Machine learning (ML) can be divided into subcategories:\n",
        "\n",
        "## Supervised Learning\n",
        "We have observations __X__ we want to use __to predict Y__ <br><br>\n",
        "__X__: data, features, inputs<br>\n",
        "__Y__: target, labels, outputs<br>\n",
        "The goal is to find a model which best predicts __Y based on X__:<br>\n",
        "Y = f(X)<br>\n",
        "\n",
        "![Picture1.png](attachment:Picture1.png)\n",
        "\n",
        "Models are further divided:<br>\n",
        "<li><b>Classification</b>: Predicting ordinal numbers; determining classes for inputs</li>\n",
        "<li><b>Regression</b>: Predicting continuous values</li>\n",
        "\n",
        "## Unsupervised Learning\n",
        "We have observations __X__<br>\n",
        "The goal is to __extract information about X__<br>\n",
        "E.g.: finding a representation, cluster the data\n",
        "\n",
        "![Picture2.png](attachment:Picture2.png) ![Picture3.png](attachment:Picture3.png)"
      ]
    },
    {
      "cell_type": "markdown",
      "metadata": {
        "id": "H__sG8frSokq"
      },
      "source": [
        "ML models are typically developed in some variation of:<br>\n",
        "<li>Parameter training</li>\n",
        "<li>Model evaluation</li>\n",
        "<li>Model selection</li>\n",
        "<li>Model generalization</li>\n",
        "\n",
        "Let's start off by taking a look at some classification examples:"
      ]
    },
    {
      "cell_type": "markdown",
      "metadata": {
        "id": "X9MYZ4SASokr"
      },
      "source": [
        "# Scikit-learn: Classification"
      ]
    },
    {
      "cell_type": "markdown",
      "metadata": {
        "id": "akOyetk2Sokr"
      },
      "source": [
        "Import relevant packages:"
      ]
    },
    {
      "cell_type": "code",
      "execution_count": null,
      "metadata": {
        "id": "uuOjZRk1Soks"
      },
      "outputs": [],
      "source": [
        "import sklearn\n",
        "import numpy as np\n",
        "from matplotlib import pyplot as plt"
      ]
    },
    {
      "cell_type": "markdown",
      "metadata": {
        "id": "gLUKosp9Soku"
      },
      "source": [
        "Scikit-learn (\"sklearn\") uses a common interface for its estimators (models). You create an instance of a model, fit it to your data by using model.fit(data, target), and you can then use it to make predictions using model.predict(new_data)."
      ]
    },
    {
      "cell_type": "markdown",
      "metadata": {
        "id": "OQMcN76qSokv"
      },
      "source": [
        "## Classification with Iris Dataset"
      ]
    },
    {
      "cell_type": "markdown",
      "metadata": {
        "id": "4jDlVimfSokv"
      },
      "source": [
        "Sklearn contains a number of example datasets. In this section, we'll look at the iris dataset, which contains information about different flowers and we will try to predict its species based on a few of the plant's features. Load the iris dataset and print its shape:"
      ]
    },
    {
      "cell_type": "code",
      "execution_count": null,
      "metadata": {
        "id": "Aou8VdMkSokw",
        "outputId": "e2f89001-c581-4369-d6de-3efec3482546"
      },
      "outputs": [
        {
          "name": "stdout",
          "output_type": "stream",
          "text": [
            "(150, 4)\n"
          ]
        }
      ],
      "source": [
        "from sklearn.datasets import load_iris\n",
        "iris = load_iris()\n",
        "print(iris.data.shape)"
      ]
    },
    {
      "cell_type": "markdown",
      "metadata": {
        "id": "iqQdmtS4Soky"
      },
      "source": [
        "Sklearn uses the data structure convention of (n_samples, n_features). The iris dataset has 150 samples, with each sample having 4 features.  \n",
        "Let's look at the first few samples:"
      ]
    },
    {
      "cell_type": "code",
      "execution_count": null,
      "metadata": {
        "id": "9ro4A42fSoky",
        "outputId": "7c1a8774-8304-4370-b2b4-9e070160a1c3"
      },
      "outputs": [
        {
          "name": "stdout",
          "output_type": "stream",
          "text": [
            "[[5.1 3.5 1.4 0.2]\n",
            " [4.9 3.  1.4 0.2]\n",
            " [4.7 3.2 1.3 0.2]\n",
            " [4.6 3.1 1.5 0.2]\n",
            " [5.  3.6 1.4 0.2]]\n",
            "['sepal length (cm)', 'sepal width (cm)', 'petal length (cm)', 'petal width (cm)']\n"
          ]
        }
      ],
      "source": [
        "print(iris.data[0:5])\n",
        "print(iris.feature_names)"
      ]
    },
    {
      "cell_type": "markdown",
      "metadata": {
        "id": "Hzr35iwBSok0"
      },
      "source": [
        "Let's also look at the target, or label of the data:"
      ]
    },
    {
      "cell_type": "code",
      "execution_count": null,
      "metadata": {
        "id": "xeQXLlijSok0",
        "outputId": "ca3e8805-04a2-4606-ee7f-94bdaf3008e3"
      },
      "outputs": [
        {
          "name": "stdout",
          "output_type": "stream",
          "text": [
            "[0 0 0 0 0 0 0 0 0 0 0 0 0 0 0 0 0 0 0 0 0 0 0 0 0 0 0 0 0 0 0 0 0 0 0 0 0\n",
            " 0 0 0 0 0 0 0 0 0 0 0 0 0 1 1 1 1 1 1 1 1 1 1 1 1 1 1 1 1 1 1 1 1 1 1 1 1\n",
            " 1 1 1 1 1 1 1 1 1 1 1 1 1 1 1 1 1 1 1 1 1 1 1 1 1 1 2 2 2 2 2 2 2 2 2 2 2\n",
            " 2 2 2 2 2 2 2 2 2 2 2 2 2 2 2 2 2 2 2 2 2 2 2 2 2 2 2 2 2 2 2 2 2 2 2 2 2\n",
            " 2 2]\n",
            "['setosa' 'versicolor' 'virginica']\n"
          ]
        }
      ],
      "source": [
        "print(iris.target)\n",
        "print(iris.target_names)"
      ]
    },
    {
      "cell_type": "code",
      "execution_count": null,
      "metadata": {
        "scrolled": true,
        "id": "3G66xIPASok1",
        "outputId": "d3068777-4849-40ba-ea7f-8e36834ec94c"
      },
      "outputs": [
        {
          "data": {
            "image/png": "[encoded data removed]",
            "text/plain": [
              "<Figure size 360x288 with 2 Axes>"
            ]
          },
          "metadata": {
            "needs_background": "light"
          },
          "output_type": "display_data"
        }
      ],
      "source": [
        "# From: http://scipy-lectures.org/packages/scikit-learn/auto_examples/plot_iris_scatter.html\n",
        "# The indices of the features that we are plotting\n",
        "x_index = 1\n",
        "y_index = 3\n",
        "\n",
        "# this formatter will label the colorbar with the correct target names\n",
        "formatter = plt.FuncFormatter(lambda i, *args: iris.target_names[int(i)])\n",
        "\n",
        "plt.figure(figsize=(5, 4))\n",
        "plt.scatter(iris.data[:, x_index], iris.data[:, y_index], c=iris.target)\n",
        "plt.colorbar(ticks=[0, 1, 2], format=formatter)\n",
        "plt.xlabel(iris.feature_names[x_index])\n",
        "plt.ylabel(iris.feature_names[y_index])\n",
        "\n",
        "plt.tight_layout()\n",
        "plt.show()"
      ]
    },
    {
      "cell_type": "markdown",
      "metadata": {
        "id": "3R-mWnPnSok2"
      },
      "source": [
        "## Classification: k nearest neighbours: kNN"
      ]
    },
    {
      "cell_type": "markdown",
      "metadata": {
        "id": "2JKchR4sSok2"
      },
      "source": [
        "K nearest neighbors (kNN) is one of the simplest learning strategies: given a new, unknown observation, look up in your reference database which ones have the closest features and assign the predominant class. Let’s try it out on our iris classification problem:"
      ]
    },
    {
      "cell_type": "code",
      "execution_count": null,
      "metadata": {
        "id": "q927bKthSok3"
      },
      "outputs": [],
      "source": [
        "# Get the data and target\n",
        "from sklearn import neighbors\n",
        "iris = load_iris()\n",
        "X, y = iris.data, iris.target"
      ]
    },
    {
      "cell_type": "code",
      "execution_count": null,
      "metadata": {
        "id": "y3ca5I7TSok3",
        "outputId": "3c55929a-4dc1-433c-abb5-7e4a8e2e16ba"
      },
      "outputs": [
        {
          "name": "stdout",
          "output_type": "stream",
          "text": [
            "['virginica']\n"
          ]
        }
      ],
      "source": [
        "# Instantiate the kNN model\n",
        "knn = neighbors.KNeighborsClassifier(n_neighbors=1)\n",
        "knn.fit(X, y)\n",
        "# What kind of iris has 3cm x 5cm sepal and 4cm x 2cm petal?\n",
        "print(iris.target_names[knn.predict([[3, 5, 4, 2]])])"
      ]
    },
    {
      "cell_type": "markdown",
      "metadata": {
        "id": "fv2yB3FLSok4"
      },
      "source": [
        "And that's it! Our model, \"knn\" is now a trained classifier."
      ]
    },
    {
      "cell_type": "markdown",
      "metadata": {
        "id": "b2qHORomSok5"
      },
      "source": [
        "We can plot our class boundaries for our kNN classifier (from http://scipy-lectures.org/packages/scikit-learn/auto_examples/plot_iris_knn.html)"
      ]
    },
    {
      "cell_type": "code",
      "execution_count": null,
      "metadata": {
        "id": "omUt9j9LSok5",
        "outputId": "afea3e05-2177-4897-8df0-408e3ab89e3f"
      },
      "outputs": [
        {
          "name": "stderr",
          "output_type": "stream",
          "text": [
            "C:\\Users\\desir\\AppData\\Local\\Temp/ipykernel_7628/1884370761.py:25: MatplotlibDeprecationWarning: shading='flat' when X and Y have the same dimensions as C is deprecated since 3.3.  Either specify the corners of the quadrilaterals with X and Y, or pass shading='auto', 'nearest' or 'gouraud', or set rcParams['pcolor.shading'].  This will become an error two minor releases later.\n",
            "  plt.pcolormesh(xx, yy, Z, cmap=cmap_light)\n"
          ]
        },
        {
          "data": {
            "text/plain": [
              "(4.2, 8.0, 1.9, 4.5)"
            ]
          },
          "execution_count": 8,
          "metadata": {},
          "output_type": "execute_result"
        },
        {
          "data": {
            "image/png": "[encoded data removed]",
            "text/plain": [
              "<Figure size 432x288 with 1 Axes>"
            ]
          },
          "metadata": {
            "needs_background": "light"
          },
          "output_type": "display_data"
        }
      ],
      "source": [
        "import numpy as np\n",
        "from matplotlib import pyplot as plt\n",
        "from sklearn import neighbors, datasets\n",
        "from matplotlib.colors import ListedColormap\n",
        "\n",
        "# Create color maps for 3-class classification problem, as with iris\n",
        "cmap_light = ListedColormap(['#FFAAAA', '#AAFFAA', '#AAAAFF'])\n",
        "cmap_bold = ListedColormap(['#FF0000', '#00FF00', '#0000FF'])\n",
        "\n",
        "iris = datasets.load_iris()\n",
        "X = iris.data[:, :2]  # we only take the first two features. We could\n",
        "                    # avoid this ugly slicing by using a two-dim dataset\n",
        "y = iris.target\n",
        "\n",
        "knn = neighbors.KNeighborsClassifier(n_neighbors=1)\n",
        "knn.fit(X, y)\n",
        "\n",
        "x_min, x_max = X[:, 0].min() - .1, X[:, 0].max() + .1\n",
        "y_min, y_max = X[:, 1].min() - .1, X[:, 1].max() + .1\n",
        "xx, yy = np.meshgrid(np.linspace(x_min, x_max, 100),\n",
        "                        np.linspace(y_min, y_max, 100))\n",
        "Z = knn.predict(np.c_[xx.ravel(), yy.ravel()])\n",
        "Z = Z.reshape(xx.shape)\n",
        "plt.figure()\n",
        "plt.pcolormesh(xx, yy, Z, cmap=cmap_light)\n",
        "\n",
        "# Plot also the training points\n",
        "plt.scatter(X[:, 0], X[:, 1], c=y, cmap=cmap_bold)\n",
        "plt.xlabel('sepal length (cm)')\n",
        "plt.ylabel('sepal width (cm)')\n",
        "plt.axis('tight')"
      ]
    },
    {
      "cell_type": "markdown",
      "metadata": {
        "id": "FN_YLQ7qSok6"
      },
      "source": [
        "## Classification: Logistic Regression"
      ]
    },
    {
      "cell_type": "markdown",
      "metadata": {
        "id": "T865JJleSok7"
      },
      "source": [
        "Let's look at a different classifier: Logistic Regression (despite its name, it does classification)"
      ]
    },
    {
      "cell_type": "code",
      "execution_count": null,
      "metadata": {
        "id": "FrNJeG53Sok7",
        "outputId": "12cfad59-195a-4bbb-a323-263e34fe175c"
      },
      "outputs": [
        {
          "name": "stdout",
          "output_type": "stream",
          "text": [
            "['virginica']\n"
          ]
        }
      ],
      "source": [
        "from sklearn.linear_model import LogisticRegression\n",
        "X, y = iris.data, iris.target\n",
        "logit = LogisticRegression(multi_class='auto', solver='liblinear')\n",
        "logit.fit(X, y)\n",
        "# As before: What kind of iris has 3cm x 5cm sepal and 4cm x 2cm petal?\n",
        "print(iris.target_names[logit.predict([[3, 5, 4, 2]])])"
      ]
    },
    {
      "cell_type": "markdown",
      "metadata": {
        "id": "Jn5rzDyZSok8"
      },
      "source": [
        "We get the same result as we did before. However, we're now faced with a critical question: How good are these models? How do we know how well they perform? Are these models reliable?"
      ]
    },
    {
      "cell_type": "markdown",
      "metadata": {
        "id": "KIflTdFVSok9"
      },
      "source": [
        "# Model Evaluation"
      ]
    },
    {
      "cell_type": "markdown",
      "metadata": {
        "id": "6qpSsMlKSok9"
      },
      "source": [
        "## Dataset splitting"
      ]
    },
    {
      "cell_type": "markdown",
      "metadata": {
        "id": "wQrt8uCBSok-"
      },
      "source": [
        "Datasets are typically divided into two or three subsets:<br><br>\n",
        "<b>Training</b><br>\n",
        "<li>Used to optimize model parameters</li><br>\n",
        "<b>Validation</b><br>\n",
        "<li>Used to compare the performance of models</li>\n",
        "<li>Model parameters are not directly exposed to this set</li><br>\n",
        "<b>Test set</b><br>\n",
        "<li>Used to evaluate generalization</li><br>\n",
        "\n",
        "![Picture4.png](attachment:Picture4.png)"
      ]
    },
    {
      "cell_type": "markdown",
      "metadata": {
        "id": "XhobVeBXSok_"
      },
      "source": [
        "Sklearn provides us with many useful tools for manipulating and separating datasets. We'll first look at train_test_split, which splits data into training/test sets."
      ]
    },
    {
      "cell_type": "code",
      "execution_count": null,
      "metadata": {
        "id": "bsXDmBWqSolA",
        "outputId": "09cad2ac-f570-427b-b204-46bc8b9a66eb"
      },
      "outputs": [
        {
          "name": "stdout",
          "output_type": "stream",
          "text": [
            "X shape: (150, 4)\n",
            "y shape: (150,)\n"
          ]
        }
      ],
      "source": [
        "from sklearn.model_selection import train_test_split\n",
        "X, y = iris.data, iris.target\n",
        "print('X shape: {}'.format(X.shape))\n",
        "print('y shape: {}'.format(y.shape))"
      ]
    },
    {
      "cell_type": "code",
      "execution_count": null,
      "metadata": {
        "id": "ouipLWBvSolC",
        "outputId": "d71568a7-70c6-48f7-9dd8-73010c06fc89"
      },
      "outputs": [
        {
          "name": "stdout",
          "output_type": "stream",
          "text": [
            "X_train shape: (90, 4)\n",
            "X_test shape: (60, 4)\n",
            "y_train shape: (90,)\n",
            "y_test shape: (60,)\n"
          ]
        }
      ],
      "source": [
        "# Split into training / testing sets. \n",
        "# We can specify the proportion we want in each set using the train_size and/or test_size parameters\n",
        "X_train, X_test, y_train, y_test = train_test_split(X, y, train_size=0.6, test_size=0.4)\n",
        "print('X_train shape: {}'.format(X_train.shape))\n",
        "print('X_test shape: {}'.format(X_test.shape))\n",
        "print('y_train shape: {}'.format(y_train.shape))\n",
        "print('y_test shape: {}'.format(y_test.shape))"
      ]
    },
    {
      "cell_type": "markdown",
      "metadata": {
        "id": "RHCy6VNKSolD"
      },
      "source": [
        "We now have two sets: one set we use to optimize our models, and another set to evaluate how they perform. Let's recreate our previous classifiers.  \n",
        "Sklearn estimators have the *score* method, which allows us to quickly evaluate the model performance on a particular dataset:"
      ]
    },
    {
      "cell_type": "code",
      "execution_count": null,
      "metadata": {
        "id": "DtMUQ0eqSolE",
        "outputId": "11326c0f-cf9b-4b54-bbc5-67b548f6aca9"
      },
      "outputs": [
        {
          "name": "stdout",
          "output_type": "stream",
          "text": [
            "kNN accuracy: 0.9333333333333333\n",
            "logit accuracy: 0.9333333333333333\n",
            "logit performs better!\n"
          ]
        }
      ],
      "source": [
        "# Instantiate and train our models\n",
        "knn = neighbors.KNeighborsClassifier(n_neighbors=1)\n",
        "knn.fit(X_train, y_train)\n",
        "logit = LogisticRegression(multi_class='auto',solver='liblinear')\n",
        "logit.fit(X_train, y_train)\n",
        "\n",
        "# Evaluate our models!\n",
        "knn_score = knn.score(X_test, y_test)\n",
        "logit_score = logit.score(X_test, y_test)\n",
        "print('kNN accuracy: {}'.format(knn_score))\n",
        "print('logit accuracy: {}'.format(logit_score))\n",
        "\n",
        "if(knn_score > logit_score):\n",
        "    print('knn performs better!')\n",
        "else:\n",
        "    print('logit performs better!')\n",
        "        "
      ]
    },
    {
      "cell_type": "markdown",
      "metadata": {
        "id": "nNNeTKToSolF"
      },
      "source": [
        "Try the following and rerun the previous cells:  \n",
        " 1) Modify the \"n_neighbors\" parameter for the kNN classifier  \n",
        " 2) Change the \"train_size\" and \"test_size\" parameters for the data split (they must sum to <= 1)  \n",
        " 3) Add \"stratify=y\" to train_test_split so that the labels are balanced in the training and test sets  \n",
        " 4) *Do nothing and just rerun them*  "
      ]
    },
    {
      "cell_type": "markdown",
      "metadata": {
        "id": "hafI5cqTSolF"
      },
      "source": [
        "Your model performance depends on the type of model you select and how much data is available for training/evaluation. The fourth point highlights something which is deceptively simple: your model performance also depends on which data points are present in your training and validation sets.  \n",
        "  \n",
        "The problem is similar when delving into model *hyperparameters*. Hyperparameters are parameters that are not directly optimized by the data, but that can have a huge impact on model performance. Hyperparameters are determined either by heuristic domain-specific information acquisition (\"guessing\") or preferably cross-validation."
      ]
    },
    {
      "cell_type": "markdown",
      "metadata": {
        "id": "3XHuxz95SolG"
      },
      "source": [
        "## Cross-Validation"
      ]
    },
    {
      "cell_type": "markdown",
      "metadata": {
        "id": "KfDGDsYcSolG"
      },
      "source": [
        "<b>Cross-validation</b> is important for a number of reasons:<br>\n",
        "<li>Evaluating model performance variability</li>\n",
        "<li>Determining hyperparameters</li>\n",
        "<li>Getting reviewers to leave you alone about doing cross-validation</li><br>\n",
        "\n",
        "<b>K-fold cross-validation (CV)</b> is one example.<br>\n",
        "To do K-fold CV:<br>\n",
        "<li>Take your training set</li>\n",
        "<li>Divide it into K equal subsets (“folds”)</li>\n",
        "<li>Train on (K-1) folds, and evaluate on the remaining fold</li>\n",
        "<li>Repeat K times for all folds</li>"
      ]
    },
    {
      "cell_type": "markdown",
      "metadata": {
        "id": "buRTS-9lSolH"
      },
      "source": [
        "Sklearn provides us with convenient functions for doing cross-validation: cross_val_score  \n",
        "The function defaults to Kfold CV, but other methods are available through sklearn.model_selection"
      ]
    },
    {
      "cell_type": "code",
      "execution_count": null,
      "metadata": {
        "scrolled": false,
        "id": "WUVPxs8sSolI",
        "outputId": "b980da93-dc04-46dd-93a6-35d0805b457c"
      },
      "outputs": [
        {
          "name": "stdout",
          "output_type": "stream",
          "text": [
            "Logit cross-validation scores: [1.         0.88888889 0.94444444 0.94444444 0.94444444]\n",
            "Mean: 0.9444444444444444\n",
            "knn cross-validation scores: [1.         1.         1.         1.         0.88888889]\n",
            "Mean: 0.9777777777777779\n"
          ]
        }
      ],
      "source": [
        "# Import cross validation function:\n",
        "from sklearn.model_selection import cross_val_score\n",
        "# Create the classifier:\n",
        "X_train, X_test, y_train, y_test = train_test_split(X, y, train_size=0.6, test_size=0.4)\n",
        "logit = LogisticRegression(multi_class='auto', solver='liblinear')\n",
        "logit_scores = cross_val_score(logit, X_train, y_train, cv=5)\n",
        "print('Logit cross-validation scores: {}'.format(logit_scores))\n",
        "print('Mean: {}'.format(np.mean(logit_scores)))\n",
        "knn = neighbors.KNeighborsClassifier(n_neighbors=1)\n",
        "knn_scores = cross_val_score(knn, X_train, y_train, cv=5)\n",
        "print('knn cross-validation scores: {}'.format(knn_scores))\n",
        "print('Mean: {}'.format(np.mean(knn_scores)))"
      ]
    },
    {
      "cell_type": "markdown",
      "metadata": {
        "id": "wLTxe9FCSolI"
      },
      "source": [
        "# Model Complexity"
      ]
    },
    {
      "cell_type": "markdown",
      "metadata": {
        "id": "FBTyVpOHSolJ"
      },
      "source": [
        "## Bias / Variance Tradeoff"
      ]
    },
    {
      "cell_type": "markdown",
      "metadata": {
        "id": "6LpXH1MjSolJ"
      },
      "source": [
        "__Model complexity__ refers to the number of tunable parameters in a model. More complex models are able to represent more complicated relationships between the input and output. "
      ]
    },
    {
      "cell_type": "code",
      "execution_count": null,
      "metadata": {
        "id": "mH1doK3NSolJ",
        "outputId": "0a0a9b6c-bc45-4182-bcce-bef6195d7de3"
      },
      "outputs": [
        {
          "data": {
            "text/plain": [
              "<matplotlib.collections.PathCollection at 0x232263c69d0>"
            ]
          },
          "execution_count": 14,
          "metadata": {},
          "output_type": "execute_result"
        },
        {
          "data": {
            "image/png": "[encoded data removed]",
            "text/plain": [
              "<Figure size 432x288 with 1 Axes>"
            ]
          },
          "metadata": {
            "needs_background": "light"
          },
          "output_type": "display_data"
        }
      ],
      "source": [
        "# From: http://scipy-lectures.org/packages/scikit-learn/auto_examples/plot_bias_variance.html\n",
        "from sklearn.pipeline import make_pipeline\n",
        "from sklearn.preprocessing import PolynomialFeatures\n",
        "from sklearn.linear_model import LinearRegression\n",
        "\n",
        "model = make_pipeline(PolynomialFeatures(degree=2), LinearRegression())\n",
        "# Generate some synthetic data\n",
        "def generating_func(x, err=5):\n",
        "    return np.random.normal(np.power(x+1, 3), err)\n",
        "X = 2*np.random.random(1000)\n",
        "y = generating_func(X)\n",
        "X_train, X_test, y_train, y_test = train_test_split(X, y, train_size=0.5)\n",
        "plt.figure()\n",
        "plt.scatter(X, y)"
      ]
    },
    {
      "cell_type": "code",
      "execution_count": null,
      "metadata": {
        "id": "tU3vbb3xSolK",
        "outputId": "3cef8c7a-2348-4864-b16f-30d9bd8501cc"
      },
      "outputs": [
        {
          "data": {
            "image/png": "[encoded data removed]",
            "text/plain": [
              "<Figure size 432x288 with 1 Axes>"
            ]
          },
          "metadata": {
            "needs_background": "light"
          },
          "output_type": "display_data"
        }
      ],
      "source": [
        "# Fit polynomials of increasing degrees:\n",
        "from sklearn.model_selection import validation_curve\n",
        "degrees = np.arange(1, 21)\n",
        "model = make_pipeline(PolynomialFeatures(), LinearRegression())\n",
        "\n",
        "# Vary the \"degrees\" on the pipeline step \"polynomialfeatures\"\n",
        "train_scores, validation_scores = validation_curve(\n",
        "                model, X[:, np.newaxis], y,\n",
        "                param_name='polynomialfeatures__degree',\n",
        "                param_range=degrees)\n",
        "\n",
        "# Plot the mean train score and validation score across folds\n",
        "plt.plot(degrees, validation_scores.mean(axis=1), label='cross-validation')  \n",
        "plt.plot(degrees, train_scores.mean(axis=1), label='training')  \n",
        "plt.legend(loc='best') \n",
        "plt.xlabel('polynomial degrees')\n",
        "plt.ylabel('explained variance')\n",
        "plt.title('Validation curve');"
      ]
    },
    {
      "cell_type": "markdown",
      "metadata": {
        "id": "xjPCNAZHSolL"
      },
      "source": [
        "The plot is typical for machine learning models, and demonstrates the bias/variance tradeoff. The training performance (orange) peaks at a value, then decreases, indicating that the complex models are overfitting the training data.\n",
        "\n",
        "**Bias error** refers to the error due to incorrect assumptions about the model. For example, fitting a data that follows x^3 using a model that uses x^2 will have some error that can't be improved by additional data.  \n",
        "**Variance** refers to error caused by variance in the training set; a model whose parameters change significantly with small changes in the training set is susceptible to *overfitting*.  \n",
        "  \n",
        "**Task**: In the previous cells, try varying the amount of data, the degree of the polynomial in the generating function, and the error on the data to see the effect of these factors."
      ]
    },
    {
      "cell_type": "markdown",
      "metadata": {
        "id": "4eK49lR6SolL"
      },
      "source": [
        "## Regularization"
      ]
    },
    {
      "cell_type": "markdown",
      "metadata": {
        "id": "4azQ9LILSolM"
      },
      "source": [
        "Regularization is a way to limit model complexity to what is helpful. This is done to avoid over-fitting and increase the interpretability of the model. It balances model performance with restrictions on model parameters.\n",
        "\n",
        "[Ridge regression](https://scikit-learn.org/stable/modules/generated/sklearn.linear_model.Ridge.html) uses linear regression (as before) along with a ridge regularizer (l2 loss on the weights)"
      ]
    },
    {
      "cell_type": "code",
      "execution_count": null,
      "metadata": {
        "id": "xU9Sk9deSolM",
        "outputId": "3ced7a80-b8c5-458d-86f8-434c3069d0c8"
      },
      "outputs": [
        {
          "data": {
            "image/png": "[encoded data removed]",
            "text/plain": [
              "<Figure size 432x288 with 1 Axes>"
            ]
          },
          "metadata": {
            "needs_background": "light"
          },
          "output_type": "display_data"
        }
      ],
      "source": [
        "from sklearn.linear_model import Ridge\n",
        "degrees = np.arange(1, 21)\n",
        "model = make_pipeline(PolynomialFeatures(), Ridge(alpha=1))\n",
        "\n",
        "# Vary the \"degrees\" on the pipeline step \"polynomialfeatures\"\n",
        "train_scores, validation_scores = validation_curve(\n",
        "                model, X[:, np.newaxis], y,\n",
        "                param_name='polynomialfeatures__degree',\n",
        "                param_range=degrees)\n",
        "# Plot the mean train score and validation score across folds\n",
        "plt.plot(degrees, validation_scores.mean(axis=1), label='cross-validation')  \n",
        "plt.plot(degrees, train_scores.mean(axis=1), label='training')  \n",
        "plt.legend(loc='best') \n",
        "plt.xlabel('polynomial degrees')\n",
        "plt.ylabel('explained variance')\n",
        "plt.title('Validation curve');"
      ]
    },
    {
      "cell_type": "markdown",
      "metadata": {
        "id": "ojZ84wFpSolN"
      },
      "source": [
        "Although the curves look similar to before, the variation with the polynomial degrees is much less drastic than before. Regularization is an effective way of trading variance for bias.\n",
        "Many sklearn estimators use regularization by default: our logistic regression from a previous exercise, for example, uses l2 regularization."
      ]
    },
    {
      "cell_type": "code",
      "execution_count": null,
      "metadata": {
        "id": "EmSS_4ZBSolN"
      },
      "outputs": [],
      "source": []
    }
  ],
  "metadata": {
    "kernelspec": {
      "display_name": "Python 3 (ipykernel)",
      "language": "python",
      "name": "python3"
    },
    "language_info": {
      "codemirror_mode": {
        "name": "ipython",
        "version": 3
      },
      "file_extension": ".py",
      "mimetype": "text/x-python",
      "name": "python",
      "nbconvert_exporter": "python",
      "pygments_lexer": "ipython3",
      "version": "3.9.6"
    },
    "colab": {
      "provenance": []
    }
  },
  "nbformat": 4,
  "nbformat_minor": 0
}